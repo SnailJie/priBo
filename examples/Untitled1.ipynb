{
 "cells": [
  {
   "cell_type": "code",
   "execution_count": 1,
   "metadata": {},
   "outputs": [],
   "source": [
    "from bayes_opt import BayesianOptimization\n",
    "import numpy as np\n",
    "import matplotlib.pyplot as plt\n",
    "from matplotlib import gridspec\n",
    "import sqlite3\n",
    "\n",
    "\n",
    "def queryTarget(cpu_count,cpu_type,ram,diskType,count):\n",
    "    con=sqlite3.connect(\"/Users/renjie/Desktop/priordb.sqlite\")\n",
    "    cursor = con.cursor()\n",
    "    print(\"quertTarget接收到的x为\\n\")\n",
    "    print(cpu_count,cpu_type,ram,diskType,count)\n",
    "    cursor.execute(\"select total_cost from querytime where cpu_count=? and cpu_type=? and ram=? and diskType=? and count=?\",(cpu_count,cpu_type,ram,diskType,count))\n",
    "    values = cursor.fetchall()\n",
    "    con.close()\n",
    "    if len(values)==0:\n",
    "        result= 1000000\n",
    "    else:\n",
    "        result =values[0]\n",
    "    print(\"查询的结果是: \\n\")\n",
    "    print(result)\n",
    "    return result"
   ]
  },
  {
   "cell_type": "code",
   "execution_count": 2,
   "metadata": {},
   "outputs": [
    {
     "name": "stdout",
     "output_type": "stream",
     "text": [
      "bounds is\n",
      "\n",
      "[[1 4]\n",
      " [2 8]\n",
      " [1 3]\n",
      " [1 3]\n",
      " [2 9]]\n"
     ]
    }
   ],
   "source": [
    "bo = BayesianOptimization(queryTarget, {'cpu_count':(2,9),'cpu_type':(1,3),'ram':(1,4),'diskType':(1,3),'count':(2,8)})"
   ]
  },
  {
   "cell_type": "code",
   "execution_count": 3,
   "metadata": {},
   "outputs": [
    {
     "name": "stdout",
     "output_type": "stream",
     "text": [
      "\u001b[31mInitialization-fuck1\u001b[0m\n",
      "\u001b[94m---------------------------------------------------------------------------------------------\u001b[0m\n",
      " Step |   Time |      Value |     count |   cpu_count |   cpu_type |   diskType |       ram | \n",
      "[2. 2.]\n",
      "[4. 2.]\n",
      "[2. 2.]\n",
      "[2. 1.]\n",
      "[8. 7.]\n",
      "\n",
      "进入初始化部分\n",
      "---x---\n",
      "\n",
      "[2. 4. 2. 2. 8.]\n",
      "\n",
      "\n",
      "_observe_point 准备进行查询，x的类型为： \n",
      "<class 'numpy.ndarray'>\n",
      "x为\n",
      "\n",
      "[2. 4. 2. 2. 8.]\n",
      "quertTarget接收到的x为\n",
      "\n",
      "8.0 2.0 2.0 2.0 4.0\n",
      "查询的结果是: \n",
      "\n",
      "1000000\n",
      "观察点：\n",
      "[2. 4. 2. 2. 8.]\n",
      "--y:  \n",
      "\n",
      "1000000\n",
      "    1 | 00m00s | \u001b[35m1000000.00000\u001b[0m | \u001b[32m   4.0000\u001b[0m | \u001b[32m     8.0000\u001b[0m | \u001b[32m    2.0000\u001b[0m | \u001b[32m    2.0000\u001b[0m | \u001b[32m   2.0000\u001b[0m | \n",
      "---y---\n",
      "\n",
      "1000000\n",
      "\n",
      "\n",
      "---x---\n",
      "\n",
      "[2. 2. 2. 1. 7.]\n",
      "\n",
      "\n",
      "_observe_point 准备进行查询，x的类型为： \n",
      "<class 'numpy.ndarray'>\n",
      "x为\n",
      "\n",
      "[2. 2. 2. 1. 7.]\n",
      "quertTarget接收到的x为\n",
      "\n",
      "7.0 2.0 2.0 1.0 2.0\n",
      "查询的结果是: \n",
      "\n",
      "1000000\n",
      "观察点：\n",
      "[2. 2. 2. 1. 7.]\n",
      "--y:  \n",
      "\n",
      "1000000\n",
      "    2 | 00m00s | 1000000.00000 |    2.0000 |      7.0000 |     2.0000 |     1.0000 |    2.0000 | \n",
      "---y---\n",
      "\n",
      "1000000\n",
      "\n",
      "\n",
      "进入acq_max,bounds is \n",
      "\n",
      "[[1 4]\n",
      " [2 8]\n",
      " [1 3]\n",
      " [1 3]\n",
      " [2 9]]\n",
      "\n",
      "\n",
      " bounds[:, 0] 类型是is \n",
      "\n",
      "<class 'numpy.ndarray'>\n",
      "\n",
      "\n"
     ]
    },
    {
     "ename": "TypeError",
     "evalue": "only size-1 arrays can be converted to Python scalars",
     "output_type": "error",
     "traceback": [
      "\u001b[0;31m--------------------------------------\u001b[0m",
      "\u001b[0;31mTypeError\u001b[0mTraceback (most recent call last)",
      "\u001b[0;32m<ipython-input-3-f1c213b28eea>\u001b[0m in \u001b[0;36m<module>\u001b[0;34m()\u001b[0m\n\u001b[0;32m----> 1\u001b[0;31m \u001b[0mbo\u001b[0m\u001b[0;34m.\u001b[0m\u001b[0mmaximize\u001b[0m\u001b[0;34m(\u001b[0m\u001b[0minit_points\u001b[0m\u001b[0;34m=\u001b[0m\u001b[0;36m2\u001b[0m\u001b[0;34m,\u001b[0m \u001b[0mn_iter\u001b[0m\u001b[0;34m=\u001b[0m\u001b[0;36m0\u001b[0m\u001b[0;34m,\u001b[0m \u001b[0macq\u001b[0m\u001b[0;34m=\u001b[0m\u001b[0;34m'ucb'\u001b[0m\u001b[0;34m,\u001b[0m \u001b[0mkappa\u001b[0m\u001b[0;34m=\u001b[0m\u001b[0;36m5\u001b[0m\u001b[0;34m)\u001b[0m\u001b[0;34m\u001b[0m\u001b[0m\n\u001b[0m",
      "\u001b[0;32m~/Desktop/MyLast/BayesianOptimization/bayes_opt/bayesian_optimization.py\u001b[0m in \u001b[0;36mmaximize\u001b[0;34m(self, init_points, n_iter, acq, kappa, xi, **gp_params)\u001b[0m\n\u001b[1;32m    271\u001b[0m                         \u001b[0mbounds\u001b[0m\u001b[0;34m=\u001b[0m\u001b[0mself\u001b[0m\u001b[0;34m.\u001b[0m\u001b[0mspace\u001b[0m\u001b[0;34m.\u001b[0m\u001b[0mbounds\u001b[0m\u001b[0;34m,\u001b[0m\u001b[0;34m\u001b[0m\u001b[0m\n\u001b[1;32m    272\u001b[0m                         \u001b[0mrandom_state\u001b[0m\u001b[0;34m=\u001b[0m\u001b[0mself\u001b[0m\u001b[0;34m.\u001b[0m\u001b[0mrandom_state\u001b[0m\u001b[0;34m,\u001b[0m\u001b[0;34m\u001b[0m\u001b[0m\n\u001b[0;32m--> 273\u001b[0;31m                         **self._acqkw)\n\u001b[0m\u001b[1;32m    274\u001b[0m         \u001b[0mprint\u001b[0m\u001b[0;34m(\u001b[0m\u001b[0;34m\"在acq——max之后的x_max的值是\\n\"\u001b[0m\u001b[0;34m)\u001b[0m\u001b[0;34m\u001b[0m\u001b[0m\n\u001b[1;32m    275\u001b[0m         \u001b[0mprint\u001b[0m\u001b[0;34m(\u001b[0m\u001b[0mx_max\u001b[0m\u001b[0;34m)\u001b[0m\u001b[0;34m\u001b[0m\u001b[0m\n",
      "\u001b[0;32m~/Desktop/MyLast/BayesianOptimization/bayes_opt/helpers.py\u001b[0m in \u001b[0;36macq_max\u001b[0;34m(ac, gp, y_max, bounds, random_state, n_warmup, n_iter)\u001b[0m\n\u001b[1;32m     52\u001b[0m     \u001b[0;31m#创建10000*5［bounds.shape[0]］个随机组合\u001b[0m\u001b[0;34m\u001b[0m\u001b[0;34m\u001b[0m\u001b[0m\n\u001b[1;32m     53\u001b[0m     x_tries = random_state.randint(bounds[:, 0], bounds[:, 1],\n\u001b[0;32m---> 54\u001b[0;31m                                    size=(n_warmup, bounds.shape[0]))\n\u001b[0m\u001b[1;32m     55\u001b[0m \u001b[0;34m\u001b[0m\u001b[0m\n\u001b[1;32m     56\u001b[0m     \u001b[0mys\u001b[0m \u001b[0;34m=\u001b[0m \u001b[0mac\u001b[0m\u001b[0;34m(\u001b[0m\u001b[0mx_tries\u001b[0m\u001b[0;34m,\u001b[0m \u001b[0mgp\u001b[0m\u001b[0;34m=\u001b[0m\u001b[0mgp\u001b[0m\u001b[0;34m,\u001b[0m \u001b[0my_max\u001b[0m\u001b[0;34m=\u001b[0m\u001b[0my_max\u001b[0m\u001b[0;34m)\u001b[0m\u001b[0;34m\u001b[0m\u001b[0m\n",
      "\u001b[0;32mmtrand.pyx\u001b[0m in \u001b[0;36mmtrand.RandomState.randint\u001b[0;34m()\u001b[0m\n",
      "\u001b[0;31mTypeError\u001b[0m: only size-1 arrays can be converted to Python scalars"
     ]
    }
   ],
   "source": [
    "bo.maximize(init_points=2, n_iter=0, acq='ucb', kappa=5)"
   ]
  },
  {
   "cell_type": "code",
   "execution_count": null,
   "metadata": {},
   "outputs": [],
   "source": []
  }
 ],
 "metadata": {
  "kernelspec": {
   "display_name": "Python 3",
   "language": "python",
   "name": "python3"
  },
  "language_info": {
   "codemirror_mode": {
    "name": "ipython",
    "version": 3
   },
   "file_extension": ".py",
   "mimetype": "text/x-python",
   "name": "python",
   "nbconvert_exporter": "python",
   "pygments_lexer": "ipython3",
   "version": "3.5.2"
  }
 },
 "nbformat": 4,
 "nbformat_minor": 2
}
