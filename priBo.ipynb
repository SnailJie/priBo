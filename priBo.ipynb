{
 "cells": [
  {
   "cell_type": "code",
   "execution_count": 1,
   "metadata": {},
   "outputs": [],
   "source": [
    "from bayes_opt import BayesianOptimization\n",
    "import numpy as np\n",
    "\n",
    "import matplotlib.pyplot as plt\n",
    "from matplotlib import gridspec\n",
    "import sqlite3"
   ]
  },
  {
   "cell_type": "code",
   "execution_count": 2,
   "metadata": {},
   "outputs": [],
   "source": [
<<<<<<< HEAD
    "\n",
=======
>>>>>>> 807fac6ff7aa65df763a698af6dbdb14a01dc994
    "def queryTarget(cpu_count,ram,diskType,netType,count):\n",
    "    #con=sqlite3.connect(\"/Users/renjie/Desktop/priordb.sqlite\")\n",
    "    #cursor = con.cursor()\n",
    "    #ram需要比较ram／cpu\n",
    "    #cursor.execute(\"select total_cost from querytime where cpu_count=? and cpu_type=? and ram=? and diskType=? and count=?\",(cpu_count,cpu_type,ram,diskType,count))\n",
    "    #values = cursor.fetchall()\n",
    "    #con.close()\n",
    "    #if len(values)==0:\n",
    "    #    return -1000000\n",
    "    #return values[0]\n",
    "    print(\"需要查询的配置：\\n\")\n",
    "    print(\"cpu_count: \")\n",
    "    print(cpu_count)\n",
    "    print(\" ram:\")\n",
    "    print(ram)\n",
    "    print(\" diskType:\")\n",
    "    print(diskType)\n",
    "    print(\" netType:\")\n",
    "    print(netType)\n",
    "    print(\" count:\")\n",
    "    print(count)  \n",
    "    print(\"请输入运行时间：\\n\")\n",
    "    mokeY=input();\n",
<<<<<<< HEAD
    "    return float(mokeY)\n"
=======
    "    return float(mokeY)\n",
    "    "
>>>>>>> 807fac6ff7aa65df763a698af6dbdb14a01dc994
   ]
  },
  {
   "cell_type": "code",
   "execution_count": 3,
   "metadata": {},
   "outputs": [
    {
     "name": "stdout",
     "output_type": "stream",
     "text": [
      "keys \n",
      "\n",
<<<<<<< HEAD
      "['netType', 'diskType', 'cpu_count', 'ram', 'count']\n"
=======
      "['count', 'cpu_count', 'ram', 'netType', 'diskType']\n"
>>>>>>> 807fac6ff7aa65df763a698af6dbdb14a01dc994
     ]
    }
   ],
   "source": [
    "bo = BayesianOptimization(queryTarget, {'cpu_count':(4,16),'ram':(6,16),'diskType':(0,1),'netType':(0,1),'count':(2,5)})"
   ]
  },
  {
   "cell_type": "code",
   "execution_count": 4,
   "metadata": {},
   "outputs": [
    {
     "name": "stdout",
     "output_type": "stream",
     "text": [
<<<<<<< HEAD
      "---------------current values start------------------\n",
      "None\n",
      "None\n",
      "---------------current values end------------------\n",
      "\u001b[31mInitialization\u001b[0m\n",
      "\u001b[94m--------------------------------------------------------------------------------------------\u001b[0m\n",
      " Step |   Time |      Value |     count |   cpu_count |   diskType |   netType |       ram | \n",
      "Validata configuration list wrong,CPU: 15.0 ram: 9.0\n",
      "Validata configuration list wrong,CPU: 7.0 ram: 6.0\n",
      "Validata configuration list wrong,CPU: 15.0 ram: 7.0\n",
      "Validata configuration list wrong,CPU: 4.0 ram: 14.0\n",
      "Validata configuration list wrong,CPU: 10.0 ram: 7.0\n",
      "Validata configuration list wrong,CPU: 8.0 ram: 9.0\n",
      "Validata configuration list wrong,CPU: 10.0 ram: 12.0\n",
      "Validata configuration list wrong,CPU: 14.0 ram: 11.0\n",
      "Validata configuration list wrong,CPU: 15.0 ram: 11.0\n",
      "Validata configuration list wrong,CPU: 13.0 ram: 7.0\n",
      "Validata configuration list wrong,CPU: 9.0 ram: 12.0\n",
      "Validata configuration list wrong,CPU: 7.0 ram: 12.0\n",
      "Validata configuration list wrong,CPU: 7.0 ram: 6.0\n",
      "Validata configuration list wrong,CPU: 11.0 ram: 8.0\n",
      "Validata configuration list wrong,CPU: 8.0 ram: 11.0\n",
      "Validata configuration list wrong,CPU: 11.0 ram: 9.0\n",
      "Validata configuration list wrong,CPU: 4.0 ram: 11.0\n",
      "Validata configuration list wrong,CPU: 5.0 ram: 7.0\n",
      "Validata configuration list wrong,CPU: 6.0 ram: 14.0\n",
      "Validata configuration list wrong,CPU: 14.0 ram: 10.0\n",
      "需要查询的配置：\n",
      "\n",
      "cpu_count: \n",
      "12.0\n",
      " ram:\n",
      "6.0\n",
=======
      "---------------concurrent values start------------------\n",
      "None\n",
      "None\n",
      "---------------concurrent values end------------------\n",
      "\u001b[31mInitialization\u001b[0m\n",
      "\u001b[94m--------------------------------------------------------------------------------------------\u001b[0m\n",
      " Step |   Time |      Value |     count |   cpu_count |   diskType |   netType |       ram | \n",
      "Validata configuration list wrong,CPU: 4.0 ram: 10.0\n",
      "Validata configuration list wrong,CPU: 9.0 ram: 14.0\n",
      "Validata configuration list wrong,CPU: 14.0 ram: 11.0\n",
      "Validata configuration list wrong,CPU: 10.0 ram: 15.0\n",
      "Validata configuration list wrong,CPU: 15.0 ram: 14.0\n",
      "Validata configuration list wrong,CPU: 14.0 ram: 10.0\n",
      "Validata configuration list wrong,CPU: 13.0 ram: 8.0\n",
      "Validata configuration list wrong,CPU: 12.0 ram: 9.0\n",
      "Validata configuration list wrong,CPU: 8.0 ram: 6.0\n",
      "Validata configuration list wrong,CPU: 7.0 ram: 9.0\n",
      "Validata configuration list wrong,CPU: 8.0 ram: 15.0\n",
      "Validata configuration list wrong,CPU: 14.0 ram: 8.0\n",
      "Validata configuration list wrong,CPU: 12.0 ram: 9.0\n",
      "Validata configuration list wrong,CPU: 10.0 ram: 6.0\n",
      "Validata configuration list wrong,CPU: 7.0 ram: 9.0\n",
      "Validata configuration list wrong,CPU: 15.0 ram: 11.0\n",
      "Validata configuration list wrong,CPU: 6.0 ram: 13.0\n",
      "Validata configuration list wrong,CPU: 5.0 ram: 11.0\n",
      "Validata configuration list wrong,CPU: 15.0 ram: 13.0\n",
      "Validata configuration list wrong,CPU: 9.0 ram: 7.0\n",
      "Validata configuration list wrong,CPU: 8.0 ram: 7.0\n",
      "Validata configuration list wrong,CPU: 13.0 ram: 10.0\n",
      "Validata configuration list wrong,CPU: 6.0 ram: 15.0\n",
      "Validata configuration list wrong,CPU: 10.0 ram: 6.0\n",
      "Validata configuration list wrong,CPU: 6.0 ram: 8.0\n",
      "Validata configuration list wrong,CPU: 4.0 ram: 15.0\n",
      "Validata configuration list wrong,CPU: 15.0 ram: 7.0\n",
      "Validata configuration list wrong,CPU: 13.0 ram: 7.0\n",
      "Validata configuration list wrong,CPU: 5.0 ram: 12.0\n",
      "Validata configuration list wrong,CPU: 14.0 ram: 8.0\n",
      "Validata configuration list wrong,CPU: 15.0 ram: 9.0\n",
      "需要查询的配置：\n",
      "\n",
      "cpu_count: \n",
      "5.0\n",
      " ram:\n",
      "10.0\n",
>>>>>>> 807fac6ff7aa65df763a698af6dbdb14a01dc994
      " diskType:\n",
      "0.0\n",
      " netType:\n",
      "0.0\n",
      " count:\n",
<<<<<<< HEAD
      "3.0\n",
      "请输入运行时间：\n",
      "\n",
      "36\n",
      "    1 | 05m12s | \u001b[35m  36.00000\u001b[0m | \u001b[32m   3.0000\u001b[0m | \u001b[32m    12.0000\u001b[0m | \u001b[32m    0.0000\u001b[0m | \u001b[32m   0.0000\u001b[0m | \u001b[32m   6.0000\u001b[0m | \n",
      "需要查询的配置：\n",
      "\n",
      "cpu_count: \n",
      "15.0\n",
      " ram:\n",
      "15.0\n",
=======
      "2.0\n",
      "请输入运行时间：\n",
      "\n",
      "73\n",
      "    1 | 20m47s | \u001b[35m  73.00000\u001b[0m | \u001b[32m   2.0000\u001b[0m | \u001b[32m     5.0000\u001b[0m | \u001b[32m    0.0000\u001b[0m | \u001b[32m   0.0000\u001b[0m | \u001b[32m  10.0000\u001b[0m | \n",
      "需要查询的配置：\n",
      "\n",
      "cpu_count: \n",
      "13.0\n",
      " ram:\n",
      "13.0\n",
>>>>>>> 807fac6ff7aa65df763a698af6dbdb14a01dc994
      " diskType:\n",
      "0.0\n",
      " netType:\n",
      "0.0\n",
      " count:\n",
<<<<<<< HEAD
      "4.0\n",
      "请输入运行时间：\n",
      "\n",
      "29\n",
      "    2 | 10m52s |   29.00000 |    4.0000 |     15.0000 |     0.0000 |    0.0000 |   15.0000 | \n",
=======
      "3.0\n",
      "请输入运行时间：\n",
      "\n",
      "50\n",
      "    2 | 25m01s |   50.00000 |    3.0000 |     13.0000 |     0.0000 |    0.0000 |   13.0000 | \n",
      "Validata configuration list wrong,CPU: 14.0 ram: 12.0\n",
      "Please modify the value of cpu_count and ram\n",
      "\n",
      "[  3.  14.  12.   0.   1.]\n",
      "CPU:14.0\n",
      "13\n",
      "RAM:12.0\n",
      "13\n",
>>>>>>> 807fac6ff7aa65df763a698af6dbdb14a01dc994
      "\u001b[31mBayesian Optimization\u001b[0m\n",
      "\u001b[94m--------------------------------------------------------------------------------------------\u001b[0m\n",
      " Step |   Time |      Value |     count |   cpu_count |   diskType |   netType |       ram | \n"
     ]
    }
   ],
   "source": [
    "bo.maximize(init_points=2, n_iter=0, acq='ei', kappa=5)"
   ]
  },
  {
   "cell_type": "code",
   "execution_count": 5,
   "metadata": {},
   "outputs": [
    {
     "name": "stdout",
     "output_type": "stream",
     "text": [
<<<<<<< HEAD
      "---------------current values start------------------\n",
      "[[ 0.  0. 12.  6.  3.]\n",
      " [ 0.  0. 15. 15.  4.]]\n",
      "[36. 29.]\n",
      "---------------current values end------------------\n",
=======
      "---------------concurrent values start------------------\n",
      "[[  2.   5.  10.   0.   0.]\n",
      " [  3.  13.  13.   0.   0.]]\n",
      "[ 73.  50.]\n",
      "---------------concurrent values end------------------\n",
      "Validata configuration list wrong,CPU: 13.0 ram: 11.0\n",
      "Please modify the value of cpu_count and ram\n",
      "\n",
      "[  3.  13.  11.   1.   1.]\n",
      "CPU:13.0\n",
      "12\n",
      "RAM:11.0\n",
      "12\n",
>>>>>>> 807fac6ff7aa65df763a698af6dbdb14a01dc994
      "\u001b[31mBayesian Optimization\u001b[0m\n",
      "\u001b[94m--------------------------------------------------------------------------------------------\u001b[0m\n",
      " Step |   Time |      Value |     count |   cpu_count |   diskType |   netType |       ram | \n",
      "需要查询的配置：\n",
      "\n",
      "cpu_count: \n",
<<<<<<< HEAD
      "14.0\n",
      " ram:\n",
      "15.0\n",
      " diskType:\n",
      "1.0\n",
      " netType:\n",
      "0.0\n",
=======
      "12.0\n",
      " ram:\n",
      "12.0\n",
      " diskType:\n",
      "1.0\n",
      " netType:\n",
      "1.0\n",
>>>>>>> 807fac6ff7aa65df763a698af6dbdb14a01dc994
      " count:\n",
      "3.0\n",
      "请输入运行时间：\n",
      "\n",
<<<<<<< HEAD
      "33\n",
      "    3 | 11m40s |   33.00000 |    3.0000 |     14.0000 |     1.0000 |    0.0000 |   15.0000 | \n"
=======
      "140\n",
      "    3 | 165m03s | \u001b[35m 140.00000\u001b[0m | \u001b[32m   3.0000\u001b[0m | \u001b[32m    12.0000\u001b[0m | \u001b[32m    1.0000\u001b[0m | \u001b[32m   1.0000\u001b[0m | \u001b[32m  12.0000\u001b[0m | \n",
      "Validata configuration list wrong,CPU: 12.0 ram: 8.0\n",
      "Please modify the value of cpu_count and ram\n",
      "\n",
      "[  3.  12.   8.   1.   1.]\n",
      "CPU:12.0\n",
      "10\n",
      "RAM:8.0\n",
      "10\n"
>>>>>>> 807fac6ff7aa65df763a698af6dbdb14a01dc994
     ]
    }
   ],
   "source": [
    "bo.maximize(init_points=0, n_iter=1, acq='ei', kappa=5)"
   ]
  },
  {
   "cell_type": "code",
   "execution_count": 6,
   "metadata": {},
   "outputs": [
    {
     "name": "stdout",
     "output_type": "stream",
     "text": [
<<<<<<< HEAD
      "---------------current values start------------------\n",
      "[[ 0.  0. 12.  6.  3.]\n",
      " [ 0.  0. 15. 15.  4.]\n",
      " [ 0.  1. 14. 15.  3.]]\n",
      "[36. 29. 33.]\n",
      "---------------current values end------------------\n",
=======
      "---------------concurrent values start------------------\n",
      "[[  2.   5.  10.   0.   0.]\n",
      " [  3.  13.  13.   0.   0.]\n",
      " [  3.  12.  12.   1.   1.]]\n",
      "[  73.   50.  140.]\n",
      "---------------concurrent values end------------------\n",
      "Validata configuration list wrong,CPU: 9.0 ram: 10.0\n",
      "Please modify the value of cpu_count and ram\n",
      "\n",
      "[  3.   9.  10.   0.   0.]\n",
      "CPU:9.0\n",
      "10\n",
      "RAM:10.0\n",
      "10\n",
      "\u001b[31mBayesian Optimization\u001b[0m\n",
      "\u001b[94m--------------------------------------------------------------------------------------------\u001b[0m\n",
      " Step |   Time |      Value |     count |   cpu_count |   diskType |   netType |       ram | \n",
      "需要查询的配置：\n",
      "\n",
      "cpu_count: \n",
      "10.0\n",
      " ram:\n",
      "10.0\n",
      " diskType:\n",
      "0.0\n",
      " netType:\n",
      "0.0\n",
      " count:\n",
      "3.0\n",
      "请输入运行时间：\n",
      "\n",
      "52\n",
      "    4 | 08m28s |   52.00000 |    3.0000 |     10.0000 |     0.0000 |    0.0000 |   10.0000 | \n",
      "Validata configuration list wrong,CPU: 10.0 ram: 8.0\n",
      "Please modify the value of cpu_count and ram\n",
      "\n",
      "[  2.  10.   8.   1.   1.]\n",
      "CPU:10.0\n",
      "9\n",
      "RAM:8.0\n",
      "\n"
     ]
    },
    {
     "ename": "SyntaxError",
     "evalue": "unexpected EOF while parsing (<string>, line 0)",
     "output_type": "error",
     "traceback": [
      "\u001b[1;36m  File \u001b[1;32m\"<string>\"\u001b[1;36m, line \u001b[1;32munknown\u001b[0m\n\u001b[1;33m    \u001b[0m\n\u001b[1;37m    ^\u001b[0m\n\u001b[1;31mSyntaxError\u001b[0m\u001b[1;31m:\u001b[0m unexpected EOF while parsing\n"
     ]
    }
   ],
   "source": [
    "bo.maximize(init_points=0, n_iter=1, acq='ei', kappa=5)"
   ]
  },
  {
   "cell_type": "code",
   "execution_count": 7,
   "metadata": {},
   "outputs": [
    {
     "name": "stdout",
     "output_type": "stream",
     "text": [
      "---------------concurrent values start------------------\n",
      "[[  2.   5.  10.   0.   0.]\n",
      " [  3.  13.  13.   0.   0.]\n",
      " [  3.  12.  12.   1.   1.]\n",
      " [  3.  10.  10.   0.   0.]]\n",
      "[  73.   50.  140.   52.]\n",
      "---------------concurrent values end------------------\n",
      "Validata configuration list wrong,CPU: 5.0 ram: 6.0\n",
      "Please modify the value of cpu_count and ram\n",
      "\n",
      "[ 4.  5.  6.  1.  1.]\n",
      "CPU:5.0\n",
      "6\n",
      "RAM:6.0\n",
      "6\n",
>>>>>>> 807fac6ff7aa65df763a698af6dbdb14a01dc994
      "\u001b[31mBayesian Optimization\u001b[0m\n",
      "\u001b[94m--------------------------------------------------------------------------------------------\u001b[0m\n",
      " Step |   Time |      Value |     count |   cpu_count |   diskType |   netType |       ram | \n",
      "需要查询的配置：\n",
      "\n",
      "cpu_count: \n",
<<<<<<< HEAD
      "15.0\n",
      " ram:\n",
      "15.0\n",
=======
      "6.0\n",
      " ram:\n",
      "6.0\n",
>>>>>>> 807fac6ff7aa65df763a698af6dbdb14a01dc994
      " diskType:\n",
      "0.0\n",
      " netType:\n",
      "1.0\n",
      " netType:\n",
      "1.0\n",
      " count:\n",
<<<<<<< HEAD
      "5.0\n",
      "请输入运行时间：\n",
      "\n",
      "35\n",
      "    4 | 03m06s |   35.00000 |    5.0000 |     15.0000 |     0.0000 |    1.0000 |   15.0000 | \n"
=======
      "4.0\n",
      "请输入运行时间：\n",
      "\n",
      "92\n",
      "    5 | 14m19s |   92.00000 |    4.0000 |      6.0000 |     1.0000 |    1.0000 |    6.0000 | \n",
      "Validata configuration list wrong,CPU: 10.0 ram: 8.0\n",
      "Please modify the value of cpu_count and ram\n",
      "\n",
      "[  4.  10.   8.   1.   0.]\n",
      "CPU:10.0\n",
      "9\n",
      "RAM:8.0\n",
      "9\n"
>>>>>>> 807fac6ff7aa65df763a698af6dbdb14a01dc994
     ]
    }
   ],
   "source": [
    "bo.maximize(init_points=0, n_iter=1, acq='ei', kappa=5)"
   ]
  },
  {
   "cell_type": "code",
   "execution_count": 8,
   "metadata": {},
   "outputs": [
    {
     "name": "stdout",
     "output_type": "stream",
     "text": [
<<<<<<< HEAD
      "---------------current values start------------------\n",
      "[[ 0.  0. 12.  6.  3.]\n",
      " [ 0.  0. 15. 15.  4.]\n",
      " [ 0.  1. 14. 15.  3.]\n",
      " [ 1.  0. 15. 15.  5.]]\n",
      "[36. 29. 33. 35.]\n",
      "---------------current values end------------------\n",
=======
      "---------------concurrent values start------------------\n",
      "[[  2.   5.  10.   0.   0.]\n",
      " [  3.  13.  13.   0.   0.]\n",
      " [  3.  12.  12.   1.   1.]\n",
      " [  3.  10.  10.   0.   0.]\n",
      " [  4.   6.   6.   1.   1.]]\n",
      "[  73.   50.  140.   52.   92.]\n",
      "---------------concurrent values end------------------\n",
      "Validata configuration list wrong,CPU: 9.0 ram: 7.0\n",
      "Please modify the value of cpu_count and ram\n",
      "\n",
      "[ 4.  9.  7.  0.  1.]\n",
      "CPU:9.0\n",
      "8\n",
      "RAM:7.0\n",
      "8\n",
      "\u001b[31mBayesian Optimization\u001b[0m\n",
      "\u001b[94m--------------------------------------------------------------------------------------------\u001b[0m\n",
      " Step |   Time |      Value |     count |   cpu_count |   diskType |   netType |       ram | \n",
      "需要查询的配置：\n",
      "\n",
      "cpu_count: \n",
      "8.0\n",
      " ram:\n",
      "8.0\n",
      " diskType:\n",
      "1.0\n",
      " netType:\n",
      "0.0\n",
      " count:\n",
      "4.0\n",
      "请输入运行时间：\n",
      "\n",
      "87\n",
      "    6 | 06m31s |   87.00000 |    4.0000 |      8.0000 |     1.0000 |    0.0000 |    8.0000 | \n",
      "Validata configuration list wrong,CPU: 11.0 ram: 7.0\n",
      "Please modify the value of cpu_count and ram\n",
      "\n",
      "[  3.  11.   7.   0.   1.]\n",
      "CPU:11.0\n",
      "10\n",
      "RAM:7.0\n",
      "8\n"
     ]
    }
   ],
   "source": [
    "bo.maximize(init_points=0, n_iter=1, acq='ei', kappa=5)"
   ]
  },
  {
   "cell_type": "code",
   "execution_count": 9,
   "metadata": {},
   "outputs": [
    {
     "name": "stdout",
     "output_type": "stream",
     "text": [
      "---------------concurrent values start------------------\n",
      "[[  2.   5.  10.   0.   0.]\n",
      " [  3.  13.  13.   0.   0.]\n",
      " [  3.  12.  12.   1.   1.]\n",
      " [  3.  10.  10.   0.   0.]\n",
      " [  4.   6.   6.   1.   1.]\n",
      " [  4.   8.   8.   0.   1.]]\n",
      "[  73.   50.  140.   52.   92.   87.]\n",
      "---------------concurrent values end------------------\n",
      "Validata configuration list wrong,CPU: 8.0 ram: 7.0\n",
      "Please modify the value of cpu_count and ram\n",
      "\n",
      "[ 4.  8.  7.  1.  0.]\n",
      "CPU:8.0\n",
      "8\n",
      "RAM:7.0\n",
      "8\n",
>>>>>>> 807fac6ff7aa65df763a698af6dbdb14a01dc994
      "\u001b[31mBayesian Optimization\u001b[0m\n",
      "\u001b[94m--------------------------------------------------------------------------------------------\u001b[0m\n",
      " Step |   Time |      Value |     count |   cpu_count |   diskType |   netType |       ram | \n",
      "需要查询的配置：\n",
      "\n",
      "cpu_count: \n",
      "8.0\n",
      " ram:\n",
      "8.0\n",
      " diskType:\n",
      "0.0\n",
      " netType:\n",
      "1.0\n",
      " count:\n",
      "4.0\n",
<<<<<<< HEAD
      " ram:\n",
      "15.0\n",
      " diskType:\n",
      "1.0\n",
      " netType:\n",
      "1.0\n",
      " count:\n",
      "2.0\n",
      "请输入运行时间：\n",
      "\n",
      "45\n",
      "    5 | 03m12s | \u001b[35m  45.00000\u001b[0m | \u001b[32m   2.0000\u001b[0m | \u001b[32m     4.0000\u001b[0m | \u001b[32m    1.0000\u001b[0m | \u001b[32m   1.0000\u001b[0m | \u001b[32m  15.0000\u001b[0m | \n"
=======
      "请输入运行时间：\n",
      "\n",
      "44\n",
      "    7 | 09m29s |   44.00000 |    4.0000 |      8.0000 |     0.0000 |    1.0000 |    8.0000 | \n",
      "Validata configuration list wrong,CPU: 6.0 ram: 10.0\n",
      "Please modify the value of cpu_count and ram\n",
      "\n",
      "[  4.   6.  10.   0.   0.]\n",
      "CPU:6.0\n",
      "8\n",
      "RAM:10.0\n",
      "8\n"
     ]
    }
   ],
   "source": [
    "bo.maximize(init_points=0, n_iter=1, acq='ei', kappa=5)"
   ]
  },
  {
   "cell_type": "code",
   "execution_count": 10,
   "metadata": {},
   "outputs": [
    {
     "name": "stdout",
     "output_type": "stream",
     "text": [
      "---------------concurrent values start------------------\n",
      "[[  2.   5.  10.   0.   0.]\n",
      " [  3.  13.  13.   0.   0.]\n",
      " [  3.  12.  12.   1.   1.]\n",
      " [  3.  10.  10.   0.   0.]\n",
      " [  4.   6.   6.   1.   1.]\n",
      " [  4.   8.   8.   0.   1.]\n",
      " [  4.   8.   8.   1.   0.]]\n",
      "[  73.   50.  140.   52.   92.   87.   44.]\n",
      "---------------concurrent values end------------------\n",
      "Validata configuration list wrong,CPU: 14.0 ram: 12.0\n",
      "Please modify the value of cpu_count and ram\n",
      "\n",
      "[  5.  14.  12.   0.   1.]\n",
      "CPU:14.0\n",
      "13\n",
      "RAM:12.0\n",
      "13\n",
      "\u001b[31mBayesian Optimization\u001b[0m\n",
      "\u001b[94m--------------------------------------------------------------------------------------------\u001b[0m\n",
      " Step |   Time |      Value |     count |   cpu_count |   diskType |   netType |       ram | \n",
      "需要查询的配置：\n",
      "\n",
      "cpu_count: \n",
      "13.0\n",
      " ram:\n",
      "13.0\n",
      " diskType:\n",
      "1.0\n",
      " netType:\n",
      "0.0\n",
      " count:\n",
      "5.0\n",
      "请输入运行时间：\n",
      "\n",
      "36\n",
      "    8 | 09m19s |   36.00000 |    5.0000 |     13.0000 |     1.0000 |    0.0000 |   13.0000 | \n"
>>>>>>> 807fac6ff7aa65df763a698af6dbdb14a01dc994
     ]
    }
   ],
   "source": [
    "bo.maximize(init_points=0, n_iter=1, acq='ei', kappa=5)"
   ]
  },
  {
   "cell_type": "code",
   "execution_count": 11,
   "metadata": {},
   "outputs": [
    {
     "name": "stdout",
     "output_type": "stream",
     "text": [
<<<<<<< HEAD
      "---------------current values start------------------\n",
      "[[ 0.  0. 12.  6.  3.]\n",
      " [ 0.  0. 15. 15.  4.]\n",
      " [ 0.  1. 14. 15.  3.]\n",
      " [ 1.  0. 15. 15.  5.]\n",
      " [ 1.  1.  4. 15.  2.]]\n",
      "[36. 29. 33. 35. 45.]\n",
      "---------------current values end------------------\n",
=======
      "---------------concurrent values start------------------\n",
      "[[  2.   5.  10.   0.   0.]\n",
      " [  3.  13.  13.   0.   0.]\n",
      " [  3.  12.  12.   1.   1.]\n",
      " [  3.  10.  10.   0.   0.]\n",
      " [  4.   6.   6.   1.   1.]\n",
      " [  4.   8.   8.   0.   1.]\n",
      " [  4.   8.   8.   1.   0.]\n",
      " [  5.  13.  13.   0.   1.]]\n",
      "[  73.   50.  140.   52.   92.   87.   44.   36.]\n",
      "---------------concurrent values end------------------\n",
      "Validata configuration list wrong,CPU: 10.0 ram: 15.0\n",
      "Please modify the value of cpu_count and ram\n",
      "\n",
      "[  2.  10.  15.   1.   1.]\n",
      "CPU:10.0\n",
      "10\n",
      "RAM:15.0\n",
      "15\n",
>>>>>>> 807fac6ff7aa65df763a698af6dbdb14a01dc994
      "\u001b[31mBayesian Optimization\u001b[0m\n",
      "\u001b[94m--------------------------------------------------------------------------------------------\u001b[0m\n",
      " Step |   Time |      Value |     count |   cpu_count |   diskType |   netType |       ram | \n",
      "需要查询的配置：\n",
      "\n",
      "cpu_count: \n",
<<<<<<< HEAD
      "14.0\n",
      " ram:\n",
      "15.0\n",
      " diskType:\n",
      "1.0\n",
      " netType:\n",
      "1.0\n",
      " count:\n",
      "3.0\n",
      "请输入运行时间：\n",
      "\n",
      "34\n",
      "    6 | 03m34s |   34.00000 |    3.0000 |     14.0000 |     1.0000 |    1.0000 |   15.0000 | \n"
=======
      "10.0\n",
      " ram:\n",
      "15.0\n",
      " diskType:\n",
      "1.0\n",
      " netType:\n",
      "1.0\n",
      " count:\n",
      "2.0\n",
      "请输入运行时间：\n",
      "\n",
      "173\n",
      "    9 | 09m59s | \u001b[35m 173.00000\u001b[0m | \u001b[32m   2.0000\u001b[0m | \u001b[32m    10.0000\u001b[0m | \u001b[32m    1.0000\u001b[0m | \u001b[32m   1.0000\u001b[0m | \u001b[32m  15.0000\u001b[0m | \n",
      "Validata configuration list wrong,CPU: 6.0 ram: 11.0\n",
      "Please modify the value of cpu_count and ram\n",
      "\n",
      "[  4.   6.  11.   0.   1.]\n",
      "CPU:6.0\n",
      "6\n",
      "RAM:11.0\n",
      "11\n"
     ]
    }
   ],
   "source": [
    "bo.maximize(init_points=0, n_iter=1, acq='ei', kappa=5)"
   ]
  },
  {
   "cell_type": "code",
   "execution_count": 12,
   "metadata": {},
   "outputs": [
    {
     "name": "stdout",
     "output_type": "stream",
     "text": [
      "---------------concurrent values start------------------\n",
      "[[  2.   5.  10.   0.   0.]\n",
      " [  3.  13.  13.   0.   0.]\n",
      " [  3.  12.  12.   1.   1.]\n",
      " [  3.  10.  10.   0.   0.]\n",
      " [  4.   6.   6.   1.   1.]\n",
      " [  4.   8.   8.   0.   1.]\n",
      " [  4.   8.   8.   1.   0.]\n",
      " [  5.  13.  13.   0.   1.]\n",
      " [  2.  10.  15.   1.   1.]]\n",
      "[  73.   50.  140.   52.   92.   87.   44.   36.  173.]\n",
      "---------------concurrent values end------------------\n",
      "Validata configuration list wrong,CPU: 12.0 ram: 11.0\n",
      "Please modify the value of cpu_count and ram\n",
      "\n",
      "[  4.  12.  11.   1.   0.]\n",
      "CPU:12.0\n",
      "12\n",
      "RAM:11.0\n",
      "11\n",
      "\u001b[31mBayesian Optimization\u001b[0m\n",
      "\u001b[94m--------------------------------------------------------------------------------------------\u001b[0m\n",
      " Step |   Time |      Value |     count |   cpu_count |   diskType |   netType |       ram | \n",
      "需要查询的配置：\n",
      "\n",
      "cpu_count: \n",
      "12.0\n",
      " ram:\n",
      "11.0\n",
      " diskType:\n",
      "0.0\n",
      " netType:\n",
      "1.0\n",
      " count:\n",
      "4.0\n",
      "请输入运行时间：\n",
      "\n",
      "47\n",
      "   10 | 08m46s |   47.00000 |    4.0000 |     12.0000 |     0.0000 |    1.0000 |   11.0000 | \n"
     ]
    }
   ],
   "source": [
    "bo.maximize(init_points=0, n_iter=1, acq='ei', kappa=5)"
   ]
  },
  {
   "cell_type": "code",
   "execution_count": 13,
   "metadata": {},
   "outputs": [
    {
     "name": "stdout",
     "output_type": "stream",
     "text": [
      "---------------concurrent values start------------------\n",
      "[[  2.   5.  10.   0.   0.]\n",
      " [  3.  13.  13.   0.   0.]\n",
      " [  3.  12.  12.   1.   1.]\n",
      " [  3.  10.  10.   0.   0.]\n",
      " [  4.   6.   6.   1.   1.]\n",
      " [  4.   8.   8.   0.   1.]\n",
      " [  4.   8.   8.   1.   0.]\n",
      " [  5.  13.  13.   0.   1.]\n",
      " [  2.  10.  15.   1.   1.]\n",
      " [  4.  12.  11.   1.   0.]]\n",
      "[  73.   50.  140.   52.   92.   87.   44.   36.  173.   47.]\n",
      "---------------concurrent values end------------------\n",
      "Validata configuration list wrong,CPU: 15.0 ram: 14.0\n",
      "Please modify the value of cpu_count and ram\n",
      "\n",
      "[  4.  15.  14.   0.   0.]\n",
      "CPU:15.0\n",
      "15\n",
      "RAM:14.0\n",
      "14\n",
      "\u001b[31mBayesian Optimization\u001b[0m\n",
      "\u001b[94m--------------------------------------------------------------------------------------------\u001b[0m\n",
      " Step |   Time |      Value |     count |   cpu_count |   diskType |   netType |       ram | \n",
      "需要查询的配置：\n",
      "\n",
      "cpu_count: \n",
      "15.0\n",
      " ram:\n",
      "14.0\n",
      " diskType:\n",
      "0.0\n",
      " netType:\n",
      "0.0\n",
      " count:\n",
      "4.0\n",
      "请输入运行时间：\n",
      "\n",
      "45\n",
      "   11 | 05m55s |   45.00000 |    4.0000 |     15.0000 |     0.0000 |    0.0000 |   14.0000 | \n",
      "Validata configuration list wrong,CPU: 10.0 ram: 13.0\n",
      "Please modify the value of cpu_count and ram\n",
      "\n",
      "[  4.  10.  13.   0.   1.]\n",
      "CPU:10.0\n",
      "10\n",
      "RAM:13.0\n",
      "13\n"
>>>>>>> 807fac6ff7aa65df763a698af6dbdb14a01dc994
     ]
    }
   ],
   "source": [
    "bo.maximize(init_points=0, n_iter=1, acq='ei', kappa=5)"
   ]
  },
  {
   "cell_type": "code",
   "execution_count": 14,
   "metadata": {},
   "outputs": [
    {
     "name": "stdout",
     "output_type": "stream",
     "text": [
<<<<<<< HEAD
      "---------------current values start------------------\n",
      "[[ 0.  0. 12.  6.  3.]\n",
      " [ 0.  0. 15. 15.  4.]\n",
      " [ 0.  1. 14. 15.  3.]\n",
      " [ 1.  0. 15. 15.  5.]\n",
      " [ 1.  1.  4. 15.  2.]\n",
      " [ 1.  1. 14. 15.  3.]]\n",
      "[36. 29. 33. 35. 45. 34.]\n",
      "---------------current values end------------------\n",
=======
      "---------------concurrent values start------------------\n",
      "[[  2.   5.  10.   0.   0.]\n",
      " [  3.  13.  13.   0.   0.]\n",
      " [  3.  12.  12.   1.   1.]\n",
      " [  3.  10.  10.   0.   0.]\n",
      " [  4.   6.   6.   1.   1.]\n",
      " [  4.   8.   8.   0.   1.]\n",
      " [  4.   8.   8.   1.   0.]\n",
      " [  5.  13.  13.   0.   1.]\n",
      " [  2.  10.  15.   1.   1.]\n",
      " [  4.  12.  11.   1.   0.]\n",
      " [  4.  15.  14.   0.   0.]]\n",
      "[  73.   50.  140.   52.   92.   87.   44.   36.  173.   47.   45.]\n",
      "---------------concurrent values end------------------\n",
      "Validata configuration list wrong,CPU: 10.0 ram: 15.0\n",
      "Please modify the value of cpu_count and ram\n",
      "\n",
      "[  5.  10.  15.   1.   1.]\n",
      "CPU:10.0\n",
      "10\n",
      "RAM:15.0\n",
      "15\n",
>>>>>>> 807fac6ff7aa65df763a698af6dbdb14a01dc994
      "\u001b[31mBayesian Optimization\u001b[0m\n",
      "\u001b[94m--------------------------------------------------------------------------------------------\u001b[0m\n",
      " Step |   Time |      Value |     count |   cpu_count |   diskType |   netType |       ram | \n",
      "需要查询的配置：\n",
      "\n",
      "cpu_count: \n",
<<<<<<< HEAD
      "16.0\n",
      " ram:\n",
      "15.0\n",
      " diskType:\n",
      "0.0\n",
      " netType:\n",
      "1.0\n",
      " count:\n",
      "2.0\n",
      "请输入运行时间：\n",
      "\n",
      "49\n",
      "    7 | 04m17s | \u001b[35m  49.00000\u001b[0m | \u001b[32m   2.0000\u001b[0m | \u001b[32m    16.0000\u001b[0m | \u001b[32m    0.0000\u001b[0m | \u001b[32m   1.0000\u001b[0m | \u001b[32m  15.0000\u001b[0m | \n"
=======
      "10.0\n",
      " ram:\n",
      "15.0\n",
      " diskType:\n",
      "1.0\n",
      " netType:\n",
      "1.0\n",
      " count:\n",
      "5.0\n",
      "请输入运行时间：\n",
      "\n",
      "85\n",
      "   12 | 09m17s |   85.00000 |    5.0000 |     10.0000 |     1.0000 |    1.0000 |   15.0000 | \n",
      "Validata configuration list wrong,CPU: 8.0 ram: 9.0\n",
      "Please modify the value of cpu_count and ram\n",
      "\n",
      "[ 2.  8.  9.  0.  0.]\n",
      "CPU:8.0\n",
      "8\n",
      "RAM:9.0\n",
      "9\n"
>>>>>>> 807fac6ff7aa65df763a698af6dbdb14a01dc994
     ]
    }
   ],
   "source": [
    "bo.maximize(init_points=0, n_iter=1, acq='ei', kappa=5)"
   ]
  },
  {
   "cell_type": "code",
   "execution_count": null,
   "metadata": {},
   "outputs": [
    {
     "name": "stdout",
     "output_type": "stream",
     "text": [
<<<<<<< HEAD
      "---------------current values start------------------\n",
      "[[ 0.  0. 12.  6.  3.]\n",
      " [ 0.  0. 15. 15.  4.]\n",
      " [ 0.  1. 14. 15.  3.]\n",
      " [ 1.  0. 15. 15.  5.]\n",
      " [ 1.  1.  4. 15.  2.]\n",
      " [ 1.  1. 14. 15.  3.]\n",
      " [ 1.  0. 16. 15.  2.]]\n",
      "[36. 29. 33. 35. 45. 34. 49.]\n",
      "---------------current values end------------------\n",
      "\u001b[31mBayesian Optimization\u001b[0m\n",
      "\u001b[94m--------------------------------------------------------------------------------------------\u001b[0m\n",
      " Step |   Time |      Value |     count |   cpu_count |   diskType |   netType |       ram | \n",
      "需要查询的配置：\n",
      "\n",
      "cpu_count: \n",
      "12.0\n",
      " ram:\n",
      "15.0\n",
      " diskType:\n",
      "1.0\n",
      " netType:\n",
      "0.0\n",
      " count:\n",
      "4.0\n",
      "请输入运行时间：\n",
      "\n",
      "30\n",
      "    8 | 03m12s |   30.00000 |    4.0000 |     12.0000 |     1.0000 |    0.0000 |   15.0000 | \n"
     ]
    }
   ],
   "source": [
    "bo.maximize(init_points=0, n_iter=1, acq='ei', kappa=5)"
   ]
  },
  {
   "cell_type": "code",
   "execution_count": 11,
   "metadata": {},
   "outputs": [
    {
     "name": "stdout",
     "output_type": "stream",
     "text": [
      "---------------current values start------------------\n",
      "[[ 0.  0. 12.  6.  3.]\n",
      " [ 0.  0. 15. 15.  4.]\n",
      " [ 0.  1. 14. 15.  3.]\n",
      " [ 1.  0. 15. 15.  5.]\n",
      " [ 1.  1.  4. 15.  2.]\n",
      " [ 1.  1. 14. 15.  3.]\n",
      " [ 1.  0. 16. 15.  2.]\n",
      " [ 0.  1. 12. 15.  4.]]\n",
      "[36. 29. 33. 35. 45. 34. 49. 30.]\n",
      "---------------current values end------------------\n",
=======
      "---------------concurrent values start------------------\n",
      "[[  2.   5.  10.   0.   0.]\n",
      " [  3.  13.  13.   0.   0.]\n",
      " [  3.  12.  12.   1.   1.]\n",
      " [  3.  10.  10.   0.   0.]\n",
      " [  4.   6.   6.   1.   1.]\n",
      " [  4.   8.   8.   0.   1.]\n",
      " [  4.   8.   8.   1.   0.]\n",
      " [  5.  13.  13.   0.   1.]\n",
      " [  2.  10.  15.   1.   1.]\n",
      " [  4.  12.  11.   1.   0.]\n",
      " [  4.  15.  14.   0.   0.]\n",
      " [  5.  10.  15.   1.   1.]]\n",
      "[  73.   50.  140.   52.   92.   87.   44.   36.  173.   47.   45.   85.]\n",
      "---------------concurrent values end------------------\n",
      "Validata configuration list wrong,CPU: 9.0 ram: 8.0\n",
      "Please modify the value of cpu_count and ram\n",
      "\n",
      "[ 5.  9.  8.  0.  1.]\n",
      "CPU:9.0\n",
      "9\n",
      "RAM:8.0\n",
      "8\n",
>>>>>>> 807fac6ff7aa65df763a698af6dbdb14a01dc994
      "\u001b[31mBayesian Optimization\u001b[0m\n",
      "\u001b[94m--------------------------------------------------------------------------------------------\u001b[0m\n",
      " Step |   Time |      Value |     count |   cpu_count |   diskType |   netType |       ram | \n",
      "需要查询的配置：\n",
      "\n",
      "cpu_count: \n",
<<<<<<< HEAD
      "4.0\n",
      " ram:\n",
      "7.0\n",
=======
      "9.0\n",
      " ram:\n",
      "8.0\n",
>>>>>>> 807fac6ff7aa65df763a698af6dbdb14a01dc994
      " diskType:\n",
      "1.0\n",
      " netType:\n",
      "0.0\n",
      " count:\n",
<<<<<<< HEAD
      "3.0\n",
      "请输入运行时间：\n",
      "\n",
      "34\n",
      "    9 | 04m15s |   34.00000 |    3.0000 |      4.0000 |     1.0000 |    0.0000 |    7.0000 | \n"
=======
      "5.0\n",
      "请输入运行时间：\n",
      "\n",
      "89\n",
      "   13 | 11m20s |   89.00000 |    5.0000 |      9.0000 |     1.0000 |    0.0000 |    8.0000 | \n",
      "Validata configuration list wrong,CPU: 16.0 ram: 7.0\n",
      "Please modify the value of cpu_count and ram\n",
      "\n",
      "[  4.  16.   7.   0.   1.]\n",
      "CPU:16.0\n",
      "16\n",
      "RAM:7.0\n",
      "7\n"
>>>>>>> 807fac6ff7aa65df763a698af6dbdb14a01dc994
     ]
    }
   ],
   "source": [
    "bo.maximize(init_points=0, n_iter=1, acq='ei', kappa=5)"
   ]
  },
  {
   "cell_type": "code",
   "execution_count": null,
   "metadata": {},
   "outputs": [
    {
     "name": "stdout",
     "output_type": "stream",
     "text": [
<<<<<<< HEAD
      "---------------current values start------------------\n",
      "[[ 0.  0. 12.  6.  3.]\n",
      " [ 0.  0. 15. 15.  4.]\n",
      " [ 0.  1. 14. 15.  3.]\n",
      " [ 1.  0. 15. 15.  5.]\n",
      " [ 1.  1.  4. 15.  2.]\n",
      " [ 1.  1. 14. 15.  3.]\n",
      " [ 1.  0. 16. 15.  2.]\n",
      " [ 0.  1. 12. 15.  4.]\n",
      " [ 0.  1.  4.  7.  3.]]\n",
      "[36. 29. 33. 35. 45. 34. 49. 30. 34.]\n",
      "---------------current values end------------------\n",
=======
      "---------------concurrent values start------------------\n",
      "[[  2.   5.  10.   0.   0.]\n",
      " [  3.  13.  13.   0.   0.]\n",
      " [  3.  12.  12.   1.   1.]\n",
      " [  3.  10.  10.   0.   0.]\n",
      " [  4.   6.   6.   1.   1.]\n",
      " [  4.   8.   8.   0.   1.]\n",
      " [  4.   8.   8.   1.   0.]\n",
      " [  5.  13.  13.   0.   1.]\n",
      " [  2.  10.  15.   1.   1.]\n",
      " [  4.  12.  11.   1.   0.]\n",
      " [  4.  15.  14.   0.   0.]\n",
      " [  5.  10.  15.   1.   1.]\n",
      " [  5.   9.   8.   0.   1.]]\n",
      "[  73.   50.  140.   52.   92.   87.   44.   36.  173.   47.   45.   85.\n",
      "   89.]\n",
      "---------------concurrent values end------------------\n",
      "Validata configuration list wrong,CPU: 7.0 ram: 11.0\n",
      "Please modify the value of cpu_count and ram\n",
      "\n",
      "[  4.   7.  11.   1.   0.]\n",
      "CPU:7.0\n",
      "7\n",
      "RAM:11.0\n",
      "11\n",
>>>>>>> 807fac6ff7aa65df763a698af6dbdb14a01dc994
      "\u001b[31mBayesian Optimization\u001b[0m\n",
      "\u001b[94m--------------------------------------------------------------------------------------------\u001b[0m\n",
      " Step |   Time |      Value |     count |   cpu_count |   diskType |   netType |       ram | \n",
      "需要查询的配置：\n",
      "\n",
      "cpu_count: \n",
<<<<<<< HEAD
      "11.0\n",
      " ram:\n",
      "15.0\n",
      " diskType:\n",
      "0.0\n",
      " netType:\n",
      "0.0\n",
=======
      "7.0\n",
      " ram:\n",
      "11.0\n",
      " diskType:\n",
      "0.0\n",
      " netType:\n",
      "1.0\n",
>>>>>>> 807fac6ff7aa65df763a698af6dbdb14a01dc994
      " count:\n",
      "4.0\n",
      "请输入运行时间：\n",
      "\n"
     ]
    }
   ],
   "source": [
    "bo.maximize(init_points=0, n_iter=1, acq='ei', kappa=5)"
   ]
  },
  {
   "cell_type": "code",
   "execution_count": null,
   "metadata": {},
   "outputs": [],
   "source": []
  }
 ],
 "metadata": {
  "kernelspec": {
   "display_name": "Python 2",
   "language": "python",
   "name": "python2"
  },
  "language_info": {
   "codemirror_mode": {
    "name": "ipython",
    "version": 2
   },
   "file_extension": ".py",
   "mimetype": "text/x-python",
   "name": "python",
   "nbconvert_exporter": "python",
   "pygments_lexer": "ipython2",
   "version": "2.7.5"
  }
 },
 "nbformat": 4,
 "nbformat_minor": 2
}
