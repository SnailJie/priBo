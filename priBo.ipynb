{
 "cells": [
  {
   "cell_type": "code",
   "execution_count": 1,
   "metadata": {},
   "outputs": [],
   "source": [
    "from bayes_opt import BayesianOptimization\n",
    "import numpy as np\n",
    "\n",
    "import matplotlib.pyplot as plt\n",
    "from matplotlib import gridspec\n",
    "import sqlite3"
   ]
  },
  {
   "cell_type": "code",
   "execution_count": 2,
   "metadata": {},
   "outputs": [],
   "source": [
    "def queryTarget(cpu_count,cpu_type,ram,diskType,count):\n",
    "    #con=sqlite3.connect(\"/Users/renjie/Desktop/priordb.sqlite\")\n",
    "    #cursor = con.cursor()\n",
    "    #ram需要比较ram／cpu\n",
    "    #cursor.execute(\"select total_cost from querytime where cpu_count=? and cpu_type=? and ram=? and diskType=? and count=?\",(cpu_count,cpu_type,ram,diskType,count))\n",
    "    #values = cursor.fetchall()\n",
    "    #con.close()\n",
    "    #if len(values)==0:\n",
    "    #    return -1000000\n",
    "    #return values[0]\n",
    "    print(\"需要查询的配置：\\n\")\n",
    "    print(\"cpu_count: \")\n",
    "    print(cpu_count)\n",
    "    print(\" cpu_type:\")\n",
    "    print(cpu_type)\n",
    "    print(\" ram:\")\n",
    "    print(ram)\n",
    "    print(\" diskType:\")\n",
    "    print(diskType)\n",
    "    print(\" count:\")\n",
    "    print(count)  \n",
    "    print(\"请输入运行时间：\\n\")\n",
    "    mokeY=input();\n",
    "    print(\"输入的: \"+mokeY)\n",
    "    return float(mokeY)\n",
    "    "
   ]
  },
  {
   "cell_type": "code",
   "execution_count": 3,
   "metadata": {},
   "outputs": [],
   "source": [
    "bo = BayesianOptimization(queryTarget, {'cpu_count':(2,9),'cpu_type':(1,3),'ram':(1,4),'diskType':(1,3),'count':(2,8)})"
   ]
  },
  {
   "cell_type": "code",
   "execution_count": 4,
   "metadata": {},
   "outputs": [
    {
     "name": "stdout",
     "output_type": "stream",
     "text": [
      "\u001b[31mInitialization\u001b[0m\n",
      "\u001b[94m---------------------------------------------------------------------------------------------\u001b[0m\n",
      " Step |   Time |      Value |     count |   cpu_count |   cpu_type |   diskType |       ram | \n",
      "随机生成的数据\n",
      "\n",
      "[3. 4. 1. 2. 2.]\n",
      "lcm is:3.0\n",
      "随机生成的数据\n",
      "\n",
      "[5. 4. 3. 1. 2.]\n",
      "lcm is:15.0\n",
      "add one\n",
      "随机生成的数据\n",
      "\n",
      "[7. 6. 3. 1. 2.]\n",
      "lcm is:21.0\n",
      "随机生成的数据\n",
      "\n",
      "[3. 2. 1. 1. 1.]\n",
      "lcm is:3.0\n",
      "随机生成的数据\n",
      "\n",
      "[4. 3. 3. 2. 2.]\n",
      "lcm is:12.0\n",
      "add one\n",
      "需要查询的配置：\n",
      "\n",
      "cpu_count: \n",
      "5.0\n",
      " cpu_type:\n",
      "2.0\n",
      " ram:\n",
      "3.0\n",
      " diskType:\n",
      "1.0\n",
      " count:\n",
      "4.0\n",
      "请输入运行时间：\n",
      "\n",
      "4\n",
      "输入的: 4\n",
      "    1 | 00m08s | \u001b[35m   4.00000\u001b[0m | \u001b[32m   4.0000\u001b[0m | \u001b[32m     5.0000\u001b[0m | \u001b[32m    2.0000\u001b[0m | \u001b[32m    1.0000\u001b[0m | \u001b[32m   3.0000\u001b[0m | \n",
      "需要查询的配置：\n",
      "\n",
      "cpu_count: \n",
      "4.0\n",
      " cpu_type:\n",
      "2.0\n",
      " ram:\n",
      "3.0\n",
      " diskType:\n",
      "2.0\n",
      " count:\n",
      "3.0\n",
      "请输入运行时间：\n",
      "\n",
      "6\n",
      "输入的: 6\n",
      "    2 | 00m00s | \u001b[35m   6.00000\u001b[0m | \u001b[32m   3.0000\u001b[0m | \u001b[32m     4.0000\u001b[0m | \u001b[32m    2.0000\u001b[0m | \u001b[32m    2.0000\u001b[0m | \u001b[32m   3.0000\u001b[0m | \n",
      "y_max is：\n",
      "\n",
      "6.0\n",
      "[[5. 4. 3. 1. 2.]\n",
      " [4. 3. 3. 2. 2.]]\n",
      "[4. 6.]\n",
      "x_max is\n",
      "[5. 4. 3. 1. 2.]\n",
      "\u001b[31mBayesian Optimization\u001b[0m\n",
      "\u001b[94m---------------------------------------------------------------------------------------------\u001b[0m\n",
      " Step |   Time |      Value |     count |   cpu_count |   cpu_type |   diskType |       ram | \n"
     ]
    }
   ],
   "source": [
    "bo.maximize(init_points=2, n_iter=0, acq='ei', kappa=5)"
   ]
  },
  {
   "cell_type": "markdown",
   "metadata": {},
   "source": [
    "## bo.maximize(init_points=0, n_iter=1, acq='ei', kappa=5)"
   ]
  },
  {
   "cell_type": "code",
   "execution_count": null,
   "metadata": {},
   "outputs": [
    {
     "name": "stdout",
     "output_type": "stream",
     "text": [
      "y_max is：\n",
      "\n",
      "321.0\n",
      "[[7. 7. 1. 2. 1.]\n",
      " [3. 5. 2. 2. 2.]]\n",
      "[321. 123.]\n",
      "x_max is\n",
      "[7. 4. 2. 2. 2.]\n",
      "\u001b[31mBayesian Optimization\u001b[0m\n",
      "\u001b[94m---------------------------------------------------------------------------------------------\u001b[0m\n",
      " Step |   Time |      Value |     count |   cpu_count |   cpu_type |   diskType |       ram | \n",
      "需要查询的配置：\n",
      "\n",
      "cpu_count: \n",
      "4.0\n",
      " cpu_type:\n",
      "2.0\n",
      " ram:\n",
      "2.0\n",
      " diskType:\n",
      "2.0\n",
      " count:\n",
      "7.0\n",
      "请输入运行时间：\n",
      "\n"
     ]
    }
   ],
   "source": [
    "bo.maximize(init_points=0, n_iter=1, acq='ei', kappa=5)"
   ]
  },
  {
   "cell_type": "code",
   "execution_count": 7,
   "metadata": {},
   "outputs": [
    {
     "name": "stdout",
     "output_type": "stream",
     "text": [
      "当前y_max为：\n",
      "\n",
      "18.0\n",
      "X,和Y\n",
      "[[4. 3. 1. 1. 1.]\n",
      " [6. 2. 2. 1. 2.]\n",
      " [4. 3. 1. 2. 1.]\n",
      " [5. 7. 1. 3. 2.]]\n",
      "[10. 13. 11. 18.]\n",
      "x_max为\n",
      "[4. 3. 1. 3. 1.]\n",
      "\u001b[31mBayesian Optimization\u001b[0m\n",
      "\u001b[94m---------------------------------------------------------------------------------------------\u001b[0m\n",
      " Step |   Time |      Value |     count |   cpu_count |   cpu_type |   diskType |       ram | \n",
      "需要查询的配置：\n",
      "\n",
      "cpu_count: \n",
      "4.0\n",
      " cpu_type:\n",
      "1.0\n",
      " ram:\n",
      "3.0\n",
      " diskType:\n",
      "1.0\n",
      " count:\n",
      "3.0\n",
      "请输入运行时间：\n",
      "\n",
      "12\n",
      "输入的: 12\n",
      "12.0\n",
      "    5 | 00m11s |   12.00000 |    3.0000 |      4.0000 |     1.0000 |     1.0000 |    3.0000 | \n"
     ]
    }
   ],
   "source": [
    "bo.maximize(init_points=0, n_iter=1, acq='ei', kappa=5)"
   ]
  },
  {
   "cell_type": "code",
   "execution_count": 8,
   "metadata": {},
   "outputs": [
    {
     "name": "stdout",
     "output_type": "stream",
     "text": [
      "当前y_max为：\n",
      "\n",
      "18.0\n",
      "X,和Y\n",
      "[[4. 3. 1. 1. 1.]\n",
      " [6. 2. 2. 1. 2.]\n",
      " [4. 3. 1. 2. 1.]\n",
      " [5. 7. 1. 3. 2.]\n",
      " [4. 3. 1. 3. 1.]]\n",
      "[10. 13. 11. 18. 12.]\n",
      "x_max为\n",
      "[4. 4. 1. 1. 1.]\n",
      "\u001b[31mBayesian Optimization\u001b[0m\n",
      "\u001b[94m---------------------------------------------------------------------------------------------\u001b[0m\n",
      " Step |   Time |      Value |     count |   cpu_count |   cpu_type |   diskType |       ram | \n",
      "需要查询的配置：\n",
      "\n",
      "cpu_count: \n",
      "4.0\n",
      " cpu_type:\n",
      "1.0\n",
      " ram:\n",
      "1.0\n",
      " diskType:\n",
      "1.0\n",
      " count:\n",
      "4.0\n",
      "请输入运行时间：\n",
      "\n",
      "11\n",
      "输入的: 11\n",
      "11.0\n",
      "    6 | 00m11s |   11.00000 |    4.0000 |      4.0000 |     1.0000 |     1.0000 |    1.0000 | \n"
     ]
    }
   ],
   "source": [
    "bo.maximize(init_points=0, n_iter=1, acq='ei', kappa=5)"
   ]
  },
  {
   "cell_type": "code",
   "execution_count": 9,
   "metadata": {},
   "outputs": [
    {
     "name": "stdout",
     "output_type": "stream",
     "text": [
      "当前y_max为：\n",
      "\n",
      "18.0\n",
      "X,和Y\n",
      "[[4. 3. 1. 1. 1.]\n",
      " [6. 2. 2. 1. 2.]\n",
      " [4. 3. 1. 2. 1.]\n",
      " [5. 7. 1. 3. 2.]\n",
      " [4. 3. 1. 3. 1.]\n",
      " [4. 4. 1. 1. 1.]]\n",
      "[10. 13. 11. 18. 12. 11.]\n",
      "x_max为\n",
      "[3. 3. 1. 2. 1.]\n",
      "\u001b[31mBayesian Optimization\u001b[0m\n",
      "\u001b[94m---------------------------------------------------------------------------------------------\u001b[0m\n",
      " Step |   Time |      Value |     count |   cpu_count |   cpu_type |   diskType |       ram | \n",
      "需要查询的配置：\n",
      "\n",
      "cpu_count: \n",
      "3.0\n",
      " cpu_type:\n",
      "1.0\n",
      " ram:\n",
      "2.0\n",
      " diskType:\n",
      "1.0\n",
      " count:\n",
      "3.0\n",
      "请输入运行时间：\n",
      "\n",
      "10\n",
      "输入的: 10\n",
      "10.0\n",
      "    7 | 00m13s |   10.00000 |    3.0000 |      3.0000 |     1.0000 |     1.0000 |    2.0000 | \n"
     ]
    }
   ],
   "source": [
    "bo.maximize(init_points=0, n_iter=1, acq='ei', kappa=5)\n"
   ]
  },
  {
   "cell_type": "code",
   "execution_count": 10,
   "metadata": {},
   "outputs": [
    {
     "name": "stdout",
     "output_type": "stream",
     "text": [
      "当前y_max为：\n",
      "\n",
      "18.0\n",
      "X,和Y\n",
      "[[4. 3. 1. 1. 1.]\n",
      " [6. 2. 2. 1. 2.]\n",
      " [4. 3. 1. 2. 1.]\n",
      " [5. 7. 1. 3. 2.]\n",
      " [4. 3. 1. 3. 1.]\n",
      " [4. 4. 1. 1. 1.]\n",
      " [3. 3. 1. 2. 1.]]\n",
      "[10. 13. 11. 18. 12. 11. 10.]\n",
      "x_max为\n",
      "[4. 2. 1. 3. 1.]\n",
      "\u001b[31mBayesian Optimization\u001b[0m\n",
      "\u001b[94m---------------------------------------------------------------------------------------------\u001b[0m\n",
      " Step |   Time |      Value |     count |   cpu_count |   cpu_type |   diskType |       ram | \n",
      "需要查询的配置：\n",
      "\n",
      "cpu_count: \n",
      "4.0\n",
      " cpu_type:\n",
      "1.0\n",
      " ram:\n",
      "3.0\n",
      " diskType:\n",
      "1.0\n",
      " count:\n",
      "2.0\n",
      "请输入运行时间：\n",
      "\n",
      "11\n",
      "输入的: 11\n",
      "11.0\n",
      "    8 | 00m11s |   11.00000 |    2.0000 |      4.0000 |     1.0000 |     1.0000 |    3.0000 | \n"
     ]
    }
   ],
   "source": [
    "bo.maximize(init_points=0, n_iter=1, acq='ei', kappa=5)\n"
   ]
  },
  {
   "cell_type": "code",
   "execution_count": null,
   "metadata": {},
   "outputs": [
    {
     "name": "stdout",
     "output_type": "stream",
     "text": [
      "当前y_max为：\n",
      "\n",
      "18.0\n",
      "X,和Y\n",
      "[[4. 3. 1. 1. 1.]\n",
      " [6. 2. 2. 1. 2.]\n",
      " [4. 3. 1. 2. 1.]\n",
      " [5. 7. 1. 3. 2.]\n",
      " [4. 3. 1. 3. 1.]\n",
      " [4. 4. 1. 1. 1.]\n",
      " [3. 3. 1. 2. 1.]\n",
      " [4. 2. 1. 3. 1.]]\n",
      "[10. 13. 11. 18. 12. 11. 10. 11.]\n",
      "x_max为\n",
      "[2. 3. 2. 1. 1.]\n",
      "\u001b[31mBayesian Optimization\u001b[0m\n",
      "\u001b[94m---------------------------------------------------------------------------------------------\u001b[0m\n",
      " Step |   Time |      Value |     count |   cpu_count |   cpu_type |   diskType |       ram | \n",
      "需要查询的配置：\n",
      "\n",
      "cpu_count: \n",
      "2.0\n",
      " cpu_type:\n",
      "1.0\n",
      " ram:\n",
      "1.0\n",
      " diskType:\n",
      "2.0\n",
      " count:\n",
      "3.0\n",
      "请输入运行时间：\n",
      "\n",
      "9\n",
      "输入的: 9\n",
      "9.0\n",
      "    9 | 00m11s |    9.00000 |    3.0000 |      2.0000 |     1.0000 |     2.0000 |    1.0000 | \n"
     ]
    }
   ],
   "source": [
    "bo.maximize(init_points=0, n_iter=1, acq='ei', kappa=5)"
   ]
  },
  {
   "cell_type": "code",
   "execution_count": null,
   "metadata": {},
   "outputs": [
    {
     "name": "stdout",
     "output_type": "stream",
     "text": [
      "当前y_max为：\n",
      "\n",
      "18.0\n",
      "X,和Y\n",
      "[[4. 3. 1. 1. 1.]\n",
      " [6. 2. 2. 1. 2.]\n",
      " [4. 3. 1. 2. 1.]\n",
      " [5. 7. 1. 3. 2.]\n",
      " [4. 3. 1. 3. 1.]\n",
      " [4. 4. 1. 1. 1.]\n",
      " [3. 3. 1. 2. 1.]\n",
      " [4. 2. 1. 3. 1.]\n",
      " [2. 3. 2. 1. 1.]]\n",
      "[10. 13. 11. 18. 12. 11. 10. 11.  9.]\n",
      "x_max为\n",
      "[4. 4. 1. 1. 1.]\n",
      "\u001b[31mBayesian Optimization\u001b[0m\n",
      "\u001b[94m---------------------------------------------------------------------------------------------\u001b[0m\n",
      " Step |   Time |      Value |     count |   cpu_count |   cpu_type |   diskType |       ram | \n",
      "需要查询的配置：\n",
      "\n",
      "cpu_count: \n",
      "3.0\n",
      " cpu_type:\n",
      "1.0\n",
      " ram:\n",
      "3.0\n",
      " diskType:\n",
      "2.0\n",
      " count:\n",
      "5.0\n",
      "请输入运行时间：\n",
      "\n"
     ]
    }
   ],
   "source": [
    "bo.maximize(init_points=0, n_iter=1, acq='ei', kappa=5)"
   ]
  },
  {
   "cell_type": "code",
   "execution_count": null,
   "metadata": {},
   "outputs": [],
   "source": []
  }
 ],
 "metadata": {
  "kernelspec": {
   "display_name": "Python 3",
   "language": "python",
   "name": "python3"
  },
  "language_info": {
   "codemirror_mode": {
    "name": "ipython",
    "version": 3
   },
   "file_extension": ".py",
   "mimetype": "text/x-python",
   "name": "python",
   "nbconvert_exporter": "python",
   "pygments_lexer": "ipython3",
   "version": "3.5.2"
  }
 },
 "nbformat": 4,
 "nbformat_minor": 2
}
