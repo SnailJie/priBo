{
 "cells": [
  {
   "cell_type": "code",
   "execution_count": 1,
   "metadata": {},
   "outputs": [],
   "source": [
    "from bayes_opt import BayesianOptimization\n",
    "import numpy as np\n",
    "\n",
    "import matplotlib.pyplot as plt\n",
    "from matplotlib import gridspec\n",
    "import sqlite3"
   ]
  },
  {
   "cell_type": "code",
   "execution_count": 2,
   "metadata": {},
   "outputs": [],
   "source": [
    "\n",
    "def queryTarget(cpu_count,ram,diskType,netType,count):\n",
    "    #con=sqlite3.connect(\"/Users/renjie/Desktop/priordb.sqlite\")\n",
    "    #cursor = con.cursor()\n",
    "    #ram需要比较ram／cpu\n",
    "    #cursor.execute(\"select total_cost from querytime where cpu_count=? and cpu_type=? and ram=? and diskType=? and count=?\",(cpu_count,cpu_type,ram,diskType,count))\n",
    "    #values = cursor.fetchall()\n",
    "    #con.close()\n",
    "    #if len(values)==0:\n",
    "    #    return -1000000\n",
    "    #return values[0]\n",
    "    print(\"需要查询的配置：\\n\")\n",
    "    print(\"cpu_count: \")\n",
    "    print(cpu_count)\n",
    "    print(\" ram:\")\n",
    "    print(ram)\n",
    "    print(\" diskType:\")\n",
    "    print(diskType)\n",
    "    print(\" netType:\")\n",
    "    print(netType)\n",
    "    print(\" count:\")\n",
    "    print(count)  \n",
    "    print(\"请输入运行时间：\\n\")\n",
    "    mokeY=input();\n",
    "    return float(mokeY)\n"
   ]
  },
  {
   "cell_type": "code",
   "execution_count": 3,
   "metadata": {},
   "outputs": [
    {
     "name": "stdout",
     "output_type": "stream",
     "text": [
      "keys \n",
      "\n",
      "['netType', 'diskType', 'cpu_count', 'ram', 'count']\n"
     ]
    }
   ],
   "source": [
    "bo = BayesianOptimization(queryTarget, {'cpu_count':(4,16),'ram':(6,16),'diskType':(0,1),'netType':(0,1),'count':(2,5)})"
   ]
  },
  {
   "cell_type": "code",
   "execution_count": 4,
   "metadata": {},
   "outputs": [
    {
     "name": "stdout",
     "output_type": "stream",
     "text": [
      "---------------current values start------------------\n",
      "None\n",
      "None\n",
      "---------------current values end------------------\n",
      "\u001b[31mInitialization\u001b[0m\n",
      "\u001b[94m--------------------------------------------------------------------------------------------\u001b[0m\n",
      " Step |   Time |      Value |     count |   cpu_count |   diskType |   netType |       ram | \n",
      "Validata configuration list wrong,CPU: 15.0 ram: 9.0\n",
      "Validata configuration list wrong,CPU: 7.0 ram: 6.0\n",
      "Validata configuration list wrong,CPU: 15.0 ram: 7.0\n",
      "Validata configuration list wrong,CPU: 4.0 ram: 14.0\n",
      "Validata configuration list wrong,CPU: 10.0 ram: 7.0\n",
      "Validata configuration list wrong,CPU: 8.0 ram: 9.0\n",
      "Validata configuration list wrong,CPU: 10.0 ram: 12.0\n",
      "Validata configuration list wrong,CPU: 14.0 ram: 11.0\n",
      "Validata configuration list wrong,CPU: 15.0 ram: 11.0\n",
      "Validata configuration list wrong,CPU: 13.0 ram: 7.0\n",
      "Validata configuration list wrong,CPU: 9.0 ram: 12.0\n",
      "Validata configuration list wrong,CPU: 7.0 ram: 12.0\n",
      "Validata configuration list wrong,CPU: 7.0 ram: 6.0\n",
      "Validata configuration list wrong,CPU: 11.0 ram: 8.0\n",
      "Validata configuration list wrong,CPU: 8.0 ram: 11.0\n",
      "Validata configuration list wrong,CPU: 11.0 ram: 9.0\n",
      "Validata configuration list wrong,CPU: 4.0 ram: 11.0\n",
      "Validata configuration list wrong,CPU: 5.0 ram: 7.0\n",
      "Validata configuration list wrong,CPU: 6.0 ram: 14.0\n",
      "Validata configuration list wrong,CPU: 14.0 ram: 10.0\n",
      "需要查询的配置：\n",
      "\n",
      "cpu_count: \n",
      "12.0\n",
      " ram:\n",
      "6.0\n",
      " diskType:\n",
      "0.0\n",
      " netType:\n",
      "0.0\n",
      " count:\n",
      "3.0\n",
      "请输入运行时间：\n",
      "\n",
      "36\n",
      "    1 | 05m12s | \u001b[35m  36.00000\u001b[0m | \u001b[32m   3.0000\u001b[0m | \u001b[32m    12.0000\u001b[0m | \u001b[32m    0.0000\u001b[0m | \u001b[32m   0.0000\u001b[0m | \u001b[32m   6.0000\u001b[0m | \n",
      "需要查询的配置：\n",
      "\n",
      "cpu_count: \n",
      "15.0\n",
      " ram:\n",
      "15.0\n",
      " diskType:\n",
      "0.0\n",
      " netType:\n",
      "0.0\n",
      " count:\n",
      "4.0\n",
      "请输入运行时间：\n",
      "\n",
      "29\n",
      "    2 | 10m52s |   29.00000 |    4.0000 |     15.0000 |     0.0000 |    0.0000 |   15.0000 | \n",
      "\u001b[31mBayesian Optimization\u001b[0m\n",
      "\u001b[94m--------------------------------------------------------------------------------------------\u001b[0m\n",
      " Step |   Time |      Value |     count |   cpu_count |   diskType |   netType |       ram | \n"
     ]
    }
   ],
   "source": [
    "bo.maximize(init_points=2, n_iter=0, acq='ei', kappa=5)"
   ]
  },
  {
   "cell_type": "code",
   "execution_count": 5,
   "metadata": {},
   "outputs": [
    {
     "name": "stdout",
     "output_type": "stream",
     "text": [
      "---------------current values start------------------\n",
      "[[ 0.  0. 12.  6.  3.]\n",
      " [ 0.  0. 15. 15.  4.]]\n",
      "[36. 29.]\n",
      "---------------current values end------------------\n",
      "\u001b[31mBayesian Optimization\u001b[0m\n",
      "\u001b[94m--------------------------------------------------------------------------------------------\u001b[0m\n",
      " Step |   Time |      Value |     count |   cpu_count |   diskType |   netType |       ram | \n",
      "需要查询的配置：\n",
      "\n",
      "cpu_count: \n",
      "14.0\n",
      " ram:\n",
      "15.0\n",
      " diskType:\n",
      "1.0\n",
      " netType:\n",
      "0.0\n",
      " count:\n",
      "3.0\n",
      "请输入运行时间：\n",
      "\n",
      "33\n",
      "    3 | 11m40s |   33.00000 |    3.0000 |     14.0000 |     1.0000 |    0.0000 |   15.0000 | \n"
     ]
    }
   ],
   "source": [
    "bo.maximize(init_points=0, n_iter=1, acq='ei', kappa=5)"
   ]
  },
  {
   "cell_type": "code",
   "execution_count": 6,
   "metadata": {},
   "outputs": [
    {
     "name": "stdout",
     "output_type": "stream",
     "text": [
      "---------------current values start------------------\n",
      "[[ 0.  0. 12.  6.  3.]\n",
      " [ 0.  0. 15. 15.  4.]\n",
      " [ 0.  1. 14. 15.  3.]]\n",
      "[36. 29. 33.]\n",
      "---------------current values end------------------\n",
      "\u001b[31mBayesian Optimization\u001b[0m\n",
      "\u001b[94m--------------------------------------------------------------------------------------------\u001b[0m\n",
      " Step |   Time |      Value |     count |   cpu_count |   diskType |   netType |       ram | \n",
      "需要查询的配置：\n",
      "\n",
      "cpu_count: \n",
      "15.0\n",
      " ram:\n",
      "15.0\n",
      " diskType:\n",
      "0.0\n",
      " netType:\n",
      "1.0\n",
      " count:\n",
      "5.0\n",
      "请输入运行时间：\n",
      "\n",
      "35\n",
      "    4 | 03m06s |   35.00000 |    5.0000 |     15.0000 |     0.0000 |    1.0000 |   15.0000 | \n"
     ]
    }
   ],
   "source": [
    "bo.maximize(init_points=0, n_iter=1, acq='ei', kappa=5)"
   ]
  },
  {
   "cell_type": "code",
   "execution_count": 7,
   "metadata": {},
   "outputs": [
    {
     "name": "stdout",
     "output_type": "stream",
     "text": [
      "---------------current values start------------------\n",
      "[[ 0.  0. 12.  6.  3.]\n",
      " [ 0.  0. 15. 15.  4.]\n",
      " [ 0.  1. 14. 15.  3.]\n",
      " [ 1.  0. 15. 15.  5.]]\n",
      "[36. 29. 33. 35.]\n",
      "---------------current values end------------------\n",
      "\u001b[31mBayesian Optimization\u001b[0m\n",
      "\u001b[94m--------------------------------------------------------------------------------------------\u001b[0m\n",
      " Step |   Time |      Value |     count |   cpu_count |   diskType |   netType |       ram | \n",
      "需要查询的配置：\n",
      "\n",
      "cpu_count: \n",
      "4.0\n",
      " ram:\n",
      "15.0\n",
      " diskType:\n",
      "1.0\n",
      " netType:\n",
      "1.0\n",
      " count:\n",
      "2.0\n",
      "请输入运行时间：\n",
      "\n",
      "45\n",
      "    5 | 03m12s | \u001b[35m  45.00000\u001b[0m | \u001b[32m   2.0000\u001b[0m | \u001b[32m     4.0000\u001b[0m | \u001b[32m    1.0000\u001b[0m | \u001b[32m   1.0000\u001b[0m | \u001b[32m  15.0000\u001b[0m | \n"
     ]
    }
   ],
   "source": [
    "bo.maximize(init_points=0, n_iter=1, acq='ei', kappa=5)"
   ]
  },
  {
   "cell_type": "code",
   "execution_count": 8,
   "metadata": {},
   "outputs": [
    {
     "name": "stdout",
     "output_type": "stream",
     "text": [
      "---------------current values start------------------\n",
      "[[ 0.  0. 12.  6.  3.]\n",
      " [ 0.  0. 15. 15.  4.]\n",
      " [ 0.  1. 14. 15.  3.]\n",
      " [ 1.  0. 15. 15.  5.]\n",
      " [ 1.  1.  4. 15.  2.]]\n",
      "[36. 29. 33. 35. 45.]\n",
      "---------------current values end------------------\n",
      "\u001b[31mBayesian Optimization\u001b[0m\n",
      "\u001b[94m--------------------------------------------------------------------------------------------\u001b[0m\n",
      " Step |   Time |      Value |     count |   cpu_count |   diskType |   netType |       ram | \n",
      "需要查询的配置：\n",
      "\n",
      "cpu_count: \n",
      "14.0\n",
      " ram:\n",
      "15.0\n",
      " diskType:\n",
      "1.0\n",
      " netType:\n",
      "1.0\n",
      " count:\n",
      "3.0\n",
      "请输入运行时间：\n",
      "\n",
      "34\n",
      "    6 | 03m34s |   34.00000 |    3.0000 |     14.0000 |     1.0000 |    1.0000 |   15.0000 | \n"
     ]
    }
   ],
   "source": [
    "bo.maximize(init_points=0, n_iter=1, acq='ei', kappa=5)"
   ]
  },
  {
   "cell_type": "code",
   "execution_count": 9,
   "metadata": {},
   "outputs": [
    {
     "name": "stdout",
     "output_type": "stream",
     "text": [
      "---------------current values start------------------\n",
      "[[ 0.  0. 12.  6.  3.]\n",
      " [ 0.  0. 15. 15.  4.]\n",
      " [ 0.  1. 14. 15.  3.]\n",
      " [ 1.  0. 15. 15.  5.]\n",
      " [ 1.  1.  4. 15.  2.]\n",
      " [ 1.  1. 14. 15.  3.]]\n",
      "[36. 29. 33. 35. 45. 34.]\n",
      "---------------current values end------------------\n",
      "\u001b[31mBayesian Optimization\u001b[0m\n",
      "\u001b[94m--------------------------------------------------------------------------------------------\u001b[0m\n",
      " Step |   Time |      Value |     count |   cpu_count |   diskType |   netType |       ram | \n",
      "需要查询的配置：\n",
      "\n",
      "cpu_count: \n",
      "16.0\n",
      " ram:\n",
      "15.0\n",
      " diskType:\n",
      "0.0\n",
      " netType:\n",
      "1.0\n",
      " count:\n",
      "2.0\n",
      "请输入运行时间：\n",
      "\n",
      "49\n",
      "    7 | 04m17s | \u001b[35m  49.00000\u001b[0m | \u001b[32m   2.0000\u001b[0m | \u001b[32m    16.0000\u001b[0m | \u001b[32m    0.0000\u001b[0m | \u001b[32m   1.0000\u001b[0m | \u001b[32m  15.0000\u001b[0m | \n"
     ]
    }
   ],
   "source": [
    "bo.maximize(init_points=0, n_iter=1, acq='ei', kappa=5)"
   ]
  },
  {
   "cell_type": "code",
   "execution_count": 10,
   "metadata": {},
   "outputs": [
    {
     "name": "stdout",
     "output_type": "stream",
     "text": [
      "---------------current values start------------------\n",
      "[[ 0.  0. 12.  6.  3.]\n",
      " [ 0.  0. 15. 15.  4.]\n",
      " [ 0.  1. 14. 15.  3.]\n",
      " [ 1.  0. 15. 15.  5.]\n",
      " [ 1.  1.  4. 15.  2.]\n",
      " [ 1.  1. 14. 15.  3.]\n",
      " [ 1.  0. 16. 15.  2.]]\n",
      "[36. 29. 33. 35. 45. 34. 49.]\n",
      "---------------current values end------------------\n",
      "\u001b[31mBayesian Optimization\u001b[0m\n",
      "\u001b[94m--------------------------------------------------------------------------------------------\u001b[0m\n",
      " Step |   Time |      Value |     count |   cpu_count |   diskType |   netType |       ram | \n",
      "需要查询的配置：\n",
      "\n",
      "cpu_count: \n",
      "12.0\n",
      " ram:\n",
      "15.0\n",
      " diskType:\n",
      "1.0\n",
      " netType:\n",
      "0.0\n",
      " count:\n",
      "4.0\n",
      "请输入运行时间：\n",
      "\n",
      "30\n",
      "    8 | 03m12s |   30.00000 |    4.0000 |     12.0000 |     1.0000 |    0.0000 |   15.0000 | \n"
     ]
    }
   ],
   "source": [
    "bo.maximize(init_points=0, n_iter=1, acq='ei', kappa=5)"
   ]
  },
  {
   "cell_type": "code",
   "execution_count": 11,
   "metadata": {},
   "outputs": [
    {
     "name": "stdout",
     "output_type": "stream",
     "text": [
      "---------------current values start------------------\n",
      "[[ 0.  0. 12.  6.  3.]\n",
      " [ 0.  0. 15. 15.  4.]\n",
      " [ 0.  1. 14. 15.  3.]\n",
      " [ 1.  0. 15. 15.  5.]\n",
      " [ 1.  1.  4. 15.  2.]\n",
      " [ 1.  1. 14. 15.  3.]\n",
      " [ 1.  0. 16. 15.  2.]\n",
      " [ 0.  1. 12. 15.  4.]]\n",
      "[36. 29. 33. 35. 45. 34. 49. 30.]\n",
      "---------------current values end------------------\n",
      "\u001b[31mBayesian Optimization\u001b[0m\n",
      "\u001b[94m--------------------------------------------------------------------------------------------\u001b[0m\n",
      " Step |   Time |      Value |     count |   cpu_count |   diskType |   netType |       ram | \n",
      "需要查询的配置：\n",
      "\n",
      "cpu_count: \n",
      "4.0\n",
      " ram:\n",
      "7.0\n",
      " diskType:\n",
      "1.0\n",
      " netType:\n",
      "0.0\n",
      " count:\n",
      "3.0\n",
      "请输入运行时间：\n",
      "\n",
      "34\n",
      "    9 | 04m15s |   34.00000 |    3.0000 |      4.0000 |     1.0000 |    0.0000 |    7.0000 | \n"
     ]
    }
   ],
   "source": [
    "bo.maximize(init_points=0, n_iter=1, acq='ei', kappa=5)"
   ]
  },
  {
   "cell_type": "code",
   "execution_count": null,
   "metadata": {},
   "outputs": [
    {
     "name": "stdout",
     "output_type": "stream",
     "text": [
      "---------------current values start------------------\n",
      "[[ 0.  0. 12.  6.  3.]\n",
      " [ 0.  0. 15. 15.  4.]\n",
      " [ 0.  1. 14. 15.  3.]\n",
      " [ 1.  0. 15. 15.  5.]\n",
      " [ 1.  1.  4. 15.  2.]\n",
      " [ 1.  1. 14. 15.  3.]\n",
      " [ 1.  0. 16. 15.  2.]\n",
      " [ 0.  1. 12. 15.  4.]\n",
      " [ 0.  1.  4.  7.  3.]]\n",
      "[36. 29. 33. 35. 45. 34. 49. 30. 34.]\n",
      "---------------current values end------------------\n",
      "\u001b[31mBayesian Optimization\u001b[0m\n",
      "\u001b[94m--------------------------------------------------------------------------------------------\u001b[0m\n",
      " Step |   Time |      Value |     count |   cpu_count |   diskType |   netType |       ram | \n",
      "需要查询的配置：\n",
      "\n",
      "cpu_count: \n",
      "11.0\n",
      " ram:\n",
      "15.0\n",
      " diskType:\n",
      "0.0\n",
      " netType:\n",
      "0.0\n",
      " count:\n",
      "4.0\n",
      "请输入运行时间：\n",
      "\n"
     ]
    }
   ],
   "source": [
    "bo.maximize(init_points=0, n_iter=1, acq='ei', kappa=5)"
   ]
  },
  {
   "cell_type": "code",
   "execution_count": null,
   "metadata": {},
   "outputs": [],
   "source": []
  }
 ],
 "metadata": {
  "kernelspec": {
   "display_name": "Python 3",
   "language": "python",
   "name": "python3"
  },
  "language_info": {
   "codemirror_mode": {
    "name": "ipython",
    "version": 3
   },
   "file_extension": ".py",
   "mimetype": "text/x-python",
   "name": "python",
   "nbconvert_exporter": "python",
   "pygments_lexer": "ipython3",
   "version": "3.5.2"
  }
 },
 "nbformat": 4,
 "nbformat_minor": 2
}
